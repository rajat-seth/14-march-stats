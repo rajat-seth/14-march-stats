{
 "cells": [
  {
   "cell_type": "markdown",
   "id": "8b7305ff-09f7-4736-b121-c091afa9bf35",
   "metadata": {},
   "source": [
    "Q1)"
   ]
  },
  {
   "cell_type": "code",
   "execution_count": 1,
   "id": "c4552a18-bccb-451e-8338-676c33c9947e",
   "metadata": {},
   "outputs": [],
   "source": [
    "import numpy as np\n",
    "from scipy.stats import f\n",
    "\n",
    "def calculate_f_value(data1, data2):\n",
    "    # Calculate the variances\n",
    "    var1 = np.var(data1, ddof=1)\n",
    "    var2 = np.var(data2, ddof=1)\n",
    "    \n",
    "    # Calculate the F-value\n",
    "    f_value = var1 / var2\n",
    "    \n",
    "    # Calculate the degrees of freedom\n",
    "    df1 = len(data1) - 1\n",
    "    df2 = len(data2) - 1\n",
    "    \n",
    "    # Calculate the p-value\n",
    "    p_value = 1 - f.cdf(f_value, df1, df2)\n",
    "    \n",
    "    return f_value, p_value"
   ]
  },
  {
   "cell_type": "markdown",
   "id": "ba4f3e5b-331a-49fe-ac6e-f4088c09963f",
   "metadata": {},
   "source": [
    "Q2)"
   ]
  },
  {
   "cell_type": "code",
   "execution_count": 2,
   "id": "713aff1f-7771-46d2-ac45-dc8ac86d6e61",
   "metadata": {},
   "outputs": [],
   "source": [
    "from scipy.stats import f\n",
    "\n",
    "def calculate_critical_f_value(alpha, df1, df2):\n",
    "    # Calculate the critical F-value\n",
    "    critical_f_value = f.ppf(1 - alpha / 2, df1, df2)\n",
    "    \n",
    "    return critical_f_value"
   ]
  },
  {
   "cell_type": "markdown",
   "id": "2b88e6a5-6231-43c9-ad8b-190319b0e848",
   "metadata": {},
   "source": [
    "Q3)"
   ]
  },
  {
   "cell_type": "code",
   "execution_count": 3,
   "id": "1cb74cec-0bcc-4613-9332-0922aa9fb619",
   "metadata": {},
   "outputs": [
    {
     "name": "stdout",
     "output_type": "stream",
     "text": [
      "F-value: 0.4008947160081145\n",
      "Degrees of freedom: 99 , 99\n",
      "p-value: 8.171095628763356e-06\n"
     ]
    }
   ],
   "source": [
    "import numpy as np\n",
    "from scipy.stats import f\n",
    "\n",
    "def perform_f_test(sample1, sample2):\n",
    "    # Calculate the variances\n",
    "    var1 = np.var(sample1, ddof=1)\n",
    "    var2 = np.var(sample2, ddof=1)\n",
    "    \n",
    "    # Calculate the F-value\n",
    "    f_value = var1 / var2\n",
    "    \n",
    "    # Calculate the degrees of freedom\n",
    "    df1 = len(sample1) - 1\n",
    "    df2 = len(sample2) - 1\n",
    "    \n",
    "    # Calculate the p-value\n",
    "    p_value = 2 * min(f.cdf(f_value, df1, df2), 1 - f.cdf(f_value, df1, df2))\n",
    "    \n",
    "    return f_value, df1, df2, p_value\n",
    "\n",
    "# Generate random samples from two normal distributions\n",
    "np.random.seed(1)\n",
    "sample1 = np.random.normal(0, 1, 100)  # Sample 1 from N(0, 1)\n",
    "sample2 = np.random.normal(0, 1.5, 100)  # Sample 2 from N(0, 1.5)\n",
    "\n",
    "# Perform F-test\n",
    "f_value, df1, df2, p_value = perform_f_test(sample1, sample2)\n",
    "\n",
    "# Print the results\n",
    "print(\"F-value:\", f_value)\n",
    "print(\"Degrees of freedom:\", df1, \",\", df2)\n",
    "print(\"p-value:\", p_value)"
   ]
  },
  {
   "cell_type": "markdown",
   "id": "c6047fad-8567-40ac-882c-04a81e7a24ad",
   "metadata": {},
   "source": [
    "Q4)"
   ]
  },
  {
   "cell_type": "code",
   "execution_count": 4,
   "id": "c3c8fbdf-6056-4b64-9989-e92c734708e5",
   "metadata": {},
   "outputs": [
    {
     "name": "stdout",
     "output_type": "stream",
     "text": [
      "The variances are not significantly different.\n",
      "F-value: 0.6666666666666666\n",
      "Degrees of freedom: 11 , 11\n",
      "p-value: 0.5123897987357996\n"
     ]
    }
   ],
   "source": [
    "import scipy.stats as stats\n",
    "\n",
    "# Define the known variances and sample sizes\n",
    "variance1 = 10\n",
    "variance2 = 15\n",
    "n1 = 12\n",
    "n2 = 12\n",
    "\n",
    "# Calculate the F-statistic\n",
    "f_value = variance1 / variance2\n",
    "\n",
    "# Calculate the degrees of freedom\n",
    "df1 = n1 - 1\n",
    "df2 = n2 - 1\n",
    "\n",
    "# Calculate the p-value\n",
    "p_value = 2 * min(stats.f.cdf(f_value, df1, df2), 1 - stats.f.cdf(f_value, df1, df2))\n",
    "\n",
    "# Compare p-value to significance level\n",
    "alpha = 0.05\n",
    "if p_value < alpha:\n",
    "    print(\"The variances are significantly different.\")\n",
    "else:\n",
    "    print(\"The variances are not significantly different.\")\n",
    "\n",
    "print(\"F-value:\", f_value)\n",
    "print(\"Degrees of freedom:\", df1, \",\", df2)\n",
    "print(\"p-value:\", p_value)"
   ]
  },
  {
   "cell_type": "markdown",
   "id": "f3ae72ca-01db-4e2f-981b-139d27d95eac",
   "metadata": {},
   "source": [
    "Q5)"
   ]
  },
  {
   "cell_type": "code",
   "execution_count": 5,
   "id": "283059c9-0c9a-4c53-9bd9-98f2800112a2",
   "metadata": {},
   "outputs": [
    {
     "name": "stdout",
     "output_type": "stream",
     "text": [
      "The sample variance is not significantly different from the claimed population variance.\n",
      "F-value: 1.2\n",
      "Degrees of freedom: 24 , 24\n",
      "p-value: 0.6587309365634488\n"
     ]
    }
   ],
   "source": [
    "import scipy.stats as stats\n",
    "\n",
    "# Define the claimed population variance and sample variance\n",
    "claimed_variance = 0.005\n",
    "sample_variance = 0.006\n",
    "sample_size = 25\n",
    "\n",
    "# Calculate the F-statistic\n",
    "f_value = sample_variance / claimed_variance\n",
    "\n",
    "# Calculate the degrees of freedom\n",
    "df1 = sample_size - 1\n",
    "df2 = sample_size - 1\n",
    "\n",
    "# Calculate the p-value\n",
    "p_value = 2 * min(stats.f.cdf(f_value, df1, df2), 1 - stats.f.cdf(f_value, df1, df2))\n",
    "\n",
    "# Compare p-value to significance level\n",
    "alpha = 0.01\n",
    "if p_value < alpha/2 or p_value > 1 - alpha/2:\n",
    "    print(\"The sample variance is significantly different from the claimed population variance.\")\n",
    "else:\n",
    "    print(\"The sample variance is not significantly different from the claimed population variance.\")\n",
    "\n",
    "print(\"F-value:\", f_value)\n",
    "print(\"Degrees of freedom:\", df1, \",\", df2)\n",
    "print(\"p-value:\", p_value)"
   ]
  },
  {
   "cell_type": "markdown",
   "id": "3157372b-9358-40be-a53a-78b6cea3de26",
   "metadata": {},
   "source": [
    "Q6)"
   ]
  },
  {
   "cell_type": "code",
   "execution_count": 6,
   "id": "ac667807-1ed6-4c50-b977-1de383b6f787",
   "metadata": {},
   "outputs": [],
   "source": [
    "def calculate_fdistribution_mean_variance(dfn, dfd):\n",
    "    \"\"\"\n",
    "    Calculates the mean and variance of an F-distribution.\n",
    "\n",
    "    Args:\n",
    "        dfn (int): Degrees of freedom for the numerator.\n",
    "        dfd (int): Degrees of freedom for the denominator.\n",
    "\n",
    "    Returns:\n",
    "        tuple: Mean and variance of the F-distribution.\n",
    "    \"\"\"\n",
    "    mean = dfd / (dfd - 2)\n",
    "    variance = (2 * (dfd**2) * (dfn + dfd - 2)) / ((dfn * (dfd - 2)**2 * (dfd - 4)))\n",
    "\n",
    "    return mean, variance"
   ]
  },
  {
   "cell_type": "markdown",
   "id": "19c24227-5b93-450f-85e1-22b233be9ae9",
   "metadata": {},
   "source": [
    "Q7)"
   ]
  },
  {
   "cell_type": "code",
   "execution_count": 7,
   "id": "d9f6e8af-66f2-45a2-8f3c-8b481559f449",
   "metadata": {},
   "outputs": [
    {
     "name": "stdout",
     "output_type": "stream",
     "text": [
      "The variances are not significantly different.\n",
      "F-value: 1.25\n",
      "Degrees of freedom: 9 , 14\n",
      "p-value: 0.6832194382585954\n"
     ]
    }
   ],
   "source": [
    "import scipy.stats as stats\n",
    "\n",
    "# Define the sample variances and sample sizes\n",
    "sample_variance_1 = 25\n",
    "sample_variance_2 = 20\n",
    "sample_size_1 = 10\n",
    "sample_size_2 = 15\n",
    "\n",
    "# Calculate the F-statistic\n",
    "f_value = sample_variance_1 / sample_variance_2\n",
    "\n",
    "# Calculate the degrees of freedom\n",
    "df1 = sample_size_1 - 1\n",
    "df2 = sample_size_2 - 1\n",
    "\n",
    "# Calculate the p-value\n",
    "p_value = 2 * min(stats.f.cdf(f_value, df1, df2), 1 - stats.f.cdf(f_value, df1, df2))\n",
    "\n",
    "# Compare p-value to significance level\n",
    "alpha = 0.10\n",
    "if p_value < alpha/2 or p_value > 1 - alpha/2:\n",
    "    print(\"The variances are significantly different.\")\n",
    "else:\n",
    "    print(\"The variances are not significantly different.\")\n",
    "\n",
    "print(\"F-value:\", f_value)\n",
    "print(\"Degrees of freedom:\", df1, \",\", df2)\n",
    "print(\"p-value:\", p_value)"
   ]
  },
  {
   "cell_type": "markdown",
   "id": "6a2364c9-79d7-444a-820a-418ec26a37c6",
   "metadata": {},
   "source": [
    "Q8)"
   ]
  },
  {
   "cell_type": "code",
   "execution_count": null,
   "id": "6b344dcc-fe8d-49e4-b18b-39c639a7e893",
   "metadata": {},
   "outputs": [],
   "source": [
    "import scipy.stats as stats\n",
    "import numpy as np\n",
    "\n",
    "# Define the data for each restaurant\n",
    "data_a = np.array([24, 25, 28, 23, 22, 20, 27])\n",
    "data_b = np.array([31, 33, 35, 30, 32, 36])\n",
    "\n",
    "# Calculate the sample variances\n",
    "sample_variance_a = np.var(data_a, ddof=1)\n",
    "sample_variance_b = np.var(data_b, ddof=1)\n",
    "\n",
    "# Determine the larger and smaller sample variances\n",
    "larger_variance = max(sample_variance_a, sample_variance_b)\n",
    "smaller_variance = min(sample_variance_a, sample_variance_b)\n",
    "\n",
    "# Calculate the degrees of freedom\n",
    "df1 = len(data_a) - 1\n",
    "df2 = len(data_b) - 1\n",
    "\n",
    "# Calculate the F-statistic\n",
    "f_value = larger_variance / smaller_variance\n",
    "\n",
    "# Calculate the p-value\n",
    "p_value = 2 * min(stats.f.cdf(f_value, df1, df2), 1 - stats.f.cdf(f_value, df1, df2))\n",
    "\n",
    "# Compare p-value to significance level\n",
    "alpha = 0.05\n",
    "if p_value < alpha/2 or p_value > 1 - alpha/2:\n",
    "    print(\"The variances are significantly different.\")\n",
    "else:\n",
    "    print(\"The variances are not significantly different.\")\n",
    "\n",
    "print(\"F-value:\", f_value)\n",
    "print(\"Degrees of freedom:\", df1, \",\", df2)\n",
    "print(\"p-value:\", p_value)\n"
   ]
  },
  {
   "cell_type": "code",
   "execution_count": null,
   "id": "f1110122-c6f8-4bfd-a68a-f232f6d79818",
   "metadata": {},
   "outputs": [],
   "source": []
  }
 ],
 "metadata": {
  "kernelspec": {
   "display_name": "Python 3 (ipykernel)",
   "language": "python",
   "name": "python3"
  },
  "language_info": {
   "codemirror_mode": {
    "name": "ipython",
    "version": 3
   },
   "file_extension": ".py",
   "mimetype": "text/x-python",
   "name": "python",
   "nbconvert_exporter": "python",
   "pygments_lexer": "ipython3",
   "version": "3.10.8"
  }
 },
 "nbformat": 4,
 "nbformat_minor": 5
}
